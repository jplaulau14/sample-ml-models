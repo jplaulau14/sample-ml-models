{
 "cells": [
  {
   "cell_type": "code",
   "execution_count": null,
   "metadata": {},
   "outputs": [],
   "source": []
  }
 ],
 "metadata": {
  "kernelspec": {
   "display_name": "Python 3.9.13 64-bit (system)",
   "language": "python",
   "name": "python3"
  },
  "language_info": {
   "name": "python",
   "version": "3.9.13"
  },
  "orig_nbformat": 4,
  "vscode": {
   "interpreter": {
    "hash": "02ebf0189b1e434b897917df124df6ce8d9fe72238d36a336708835989274848"
   }
  }
 },
 "nbformat": 4,
 "nbformat_minor": 2
}
